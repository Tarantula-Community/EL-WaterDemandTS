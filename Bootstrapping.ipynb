# -*- coding: utf-8 -*-
"""
Created on Tue Jun  8 14:50:55 2021

@author: Utente
"""

import numpy as np
import pandas as pd
import seaborn as sns

sns.set()
from matplotlib import pyplot as plt

# Graphics in retina format are more sharp and legible
%config InlineBackend.figure_format = 'retina'

water_data = pd.read_csv("C:/Users/Utente/Desktop/Book University Manhattan/Paragrafo_BOOK IWA/Esercizi_Paragrafo/dataset.csv", delimiter=" ")

water_data.loc[water_data["fixture"] == "washbasin", "liters"].hist(
    label="Washbasin"
)
water_data.loc[water_data["fixture"] == "kitchenfaucet", "liters"].hist(
    label="kitchenfaucet"
)
plt.xlabel("Mliters")
plt.ylabel("Density")
plt.legend();

def get_bootstrap_samples(data, n_samples):
    """Generate bootstrap samples using the bootstrap method."""
    indices = np.random.randint(0, len(data), (n_samples, len(data)))
    samples = data[indices]
    return samples


def stat_intervals(stat, alpha):
    """Produce an interval estimate."""
    boundaries = np.percentile(stat, [100 * alpha / 2.0, 100 * (1 - alpha / 2.0)])
    return boundaries


# Save the data about the washbasin and kitchen faucet to split the dataset
wb_liters = water_data.loc[
    water_data["fixture"] == "washbasin", "liters"
].values
kit_liters = water_data.loc[
    water_data["fixture"] == "kitchenfaucet", "liters"
].values

# Set the seed for reproducibility of the results
np.random.seed(0)

# Generate the samples using bootstrapping and calculate the mean for each of them
wb_liters_mean_scores = [
    np.mean(sample) for sample in get_bootstrap_samples(wb_liters, 1000)
]
kit_liters_mean_scores = [
    np.mean(sample) for sample in get_bootstrap_samples(kit_liters, 1000)
]

# Print the resulting interval estimates
print(
    "mliters consumed by washbasin: mean interval", stat_intervals(wb_liters_mean_scores, 0.05))
print(
    "mliters consumed by kitchenfaucet: mean interval", stat_intervals(kit_liters_mean_scores, 0.05))

def get_bootstrap_samples(data, n_samples):
    """Generate bootstrap samples using the bootstrap method."""
    indices = np.random.randint(0, len(data), (n_samples, len(data)))
    samples = data[indices]
    return samples


def stat_intervals(stat, alpha):
    """Produce an interval estimate."""
    boundaries = np.percentile(stat, [100 * alpha / 2.0, 100 * (1 - alpha / 2.0)])
    return boundaries


# Save the data about the washbasin and kitchen faucet to split the dataset
wb_liters = water_data.loc[
    water_data["fixture"] == "washbasin", "liters"
].values
kit_liters = water_data.loc[
    water_data["fixture"] == "kitchenfaucet", "liters"
].values

# Set the seed for reproducibility of the results
np.random.seed(0)

# Generate the samples using bootstrapping and calculate the mean for each of them
wb_liters_mean_scores = [
    np.mean(sample) for sample in get_bootstrap_samples(wb_liters, 1000)
]
kit_liters_mean_scores = [
    np.mean(sample) for sample in get_bootstrap_samples(kit_liters, 1000)
]

# Print the resulting interval estimates
print(
    "mliters consumed by washbasin: mean interval", stat_intervals(wb_liters_mean_scores, 0.05))
print(
    "mliters consumed by kitchenfaucet: mean interval", stat_intervals(kit_liters_mean_scores, 0.05))